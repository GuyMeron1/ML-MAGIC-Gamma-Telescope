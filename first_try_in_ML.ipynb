{
  "nbformat": 4,
  "nbformat_minor": 0,
  "metadata": {
    "colab": {
      "provenance": [],
      "collapsed_sections": [
        "Hd1u5KaPiIAa",
        "amwhzKjdpmhJ",
        "piD_vDy7DqMO"
      ],
      "authorship_tag": "ABX9TyOLn6ckFl2pEnxC+lYhGYu1",
      "include_colab_link": true
    },
    "kernelspec": {
      "name": "python3",
      "display_name": "Python 3"
    },
    "language_info": {
      "name": "python"
    }
  },
  "cells": [
    {
      "cell_type": "markdown",
      "metadata": {
        "id": "view-in-github",
        "colab_type": "text"
      },
      "source": [
        "<a href=\"https://colab.research.google.com/github/GuyMeron1/ML-MAGIC-Gamma-Telescope/blob/main/first_try_in_ML.ipynb\" target=\"_parent\"><img src=\"https://colab.research.google.com/assets/colab-badge.svg\" alt=\"Open In Colab\"/></a>"
      ]
    },
    {
      "cell_type": "markdown",
      "source": [
        "Imports:"
      ],
      "metadata": {
        "id": "WhAPRvIag2ba"
      }
    },
    {
      "cell_type": "code",
      "execution_count": 36,
      "metadata": {
        "id": "yJntnSY4sG5x"
      },
      "outputs": [],
      "source": [
        "import numpy as np\n",
        "import pandas as pd\n",
        "import matplotlib.pyplot as plt\n",
        "from sklearn.preprocessing import StandardScaler\n",
        "from imblearn.over_sampling import RandomOverSampler"
      ]
    },
    {
      "cell_type": "markdown",
      "source": [
        "Load and Preview Dataset:"
      ],
      "metadata": {
        "id": "JJP-32Bsg9JJ"
      }
    },
    {
      "cell_type": "code",
      "source": [
        "cols = [\"fLength\", \"fWidth\", \"fSize\", \"fConc\", \"fConcl\", \"fAsym\", \"fM3Long\", \"fM3Trans\", \"fAlpha\", \"fDist\", \"class\"]\n",
        "\n",
        "df = pd.read_csv(\"magic04.data\", names=cols)\n",
        "df.head()"
      ],
      "metadata": {
        "id": "HxikvVFv1-4n"
      },
      "execution_count": null,
      "outputs": []
    },
    {
      "cell_type": "markdown",
      "source": [
        "Encode Target Variable:"
      ],
      "metadata": {
        "id": "ek9MDs9ghtx9"
      }
    },
    {
      "cell_type": "code",
      "source": [
        "df[\"class\"] = (df[\"class\"] == \"g\").astype(int)\n",
        "df.head()"
      ],
      "metadata": {
        "id": "xnBwtNuJ9eYX"
      },
      "execution_count": null,
      "outputs": []
    },
    {
      "cell_type": "markdown",
      "source": [
        "Feature Distributions by Class:"
      ],
      "metadata": {
        "id": "EbmVR2hBhyQL"
      }
    },
    {
      "cell_type": "code",
      "source": [
        "for label in cols[:-1]:\n",
        "  plt.hist(df[df[\"class\"]==1][label], color=\"blue\", label=\"gamma\", alpha=0.7, density=True)\n",
        "  plt.hist(df[df[\"class\"]==0][label], color=\"red\", label=\"hadron\", alpha=0.7, density=True)\n",
        "  plt.title(label)\n",
        "  plt.ylabel(\"Probability\")\n",
        "  plt.xlabel(label)\n",
        "  plt.legend()\n",
        "  plt.show()"
      ],
      "metadata": {
        "id": "Gpk6aChdB-1T"
      },
      "execution_count": null,
      "outputs": []
    },
    {
      "cell_type": "markdown",
      "source": [
        "Split Dataset into Train, Validation, and Test Sets:"
      ],
      "metadata": {
        "id": "3X108kgNh4dZ"
      }
    },
    {
      "cell_type": "code",
      "source": [
        "train, valid, test = np.split(df.sample(frac=1), [int(0.6*len(df)), int(0.8*len(df))])\n",
        "\"\"\"shuffled_df = df.sample(frac=1, random_state=42)  # optional: set seed for reproducibility\n",
        "train = shuffled_df.iloc[:int(0.6*len(df))]\n",
        "valid = shuffled_df.iloc[int(0.6*len(df)):int(0.8*len(df))]\n",
        "test  = shuffled_df.iloc[int(0.8*len(df)):]\"\"\"\n"
      ],
      "metadata": {
        "id": "_zGY7NB-HUU5"
      },
      "execution_count": null,
      "outputs": []
    },
    {
      "cell_type": "markdown",
      "source": [
        "Scale and Optionally Oversample Dataset:"
      ],
      "metadata": {
        "id": "goG0IRsOiBjN"
      }
    },
    {
      "cell_type": "code",
      "source": [
        "def scale_dataset(dataframe, oversample=False):\n",
        "  X = dataframe[dataframe.columns[:-1]].values\n",
        "  Y = dataframe[dataframe.columns[-1]].values\n",
        "\n",
        "  scaler = StandardScaler()\n",
        "  X = scaler.fit_transform(X)\n",
        "\n",
        "  if oversample:\n",
        "    ros = RandomOverSampler()\n",
        "    X, Y = ros.fit_resample(X, Y)\n",
        "\n",
        "  data = np.hstack((X, np.reshape(Y, (-1, 1))))\n",
        "\n",
        "  return data, X, Y"
      ],
      "metadata": {
        "id": "Dko0-1XJHgaC"
      },
      "execution_count": null,
      "outputs": []
    },
    {
      "cell_type": "markdown",
      "source": [
        "Apply Scaling and Oversampling to Splits:"
      ],
      "metadata": {
        "id": "B28RqzMaiGLT"
      }
    },
    {
      "cell_type": "code",
      "source": [
        "train, X_train, Y_train = scale_dataset(train, oversample=True)\n",
        "valid, X_valid, Y_valid = scale_dataset(valid, oversample=False)\n",
        "test, X_test, Y_test = scale_dataset(test, oversample=False)"
      ],
      "metadata": {
        "id": "sHNePlhTdclV"
      },
      "execution_count": null,
      "outputs": []
    },
    {
      "cell_type": "markdown",
      "source": [
        "# **KNN:**"
      ],
      "metadata": {
        "id": "Hd1u5KaPiIAa"
      }
    },
    {
      "cell_type": "code",
      "source": [
        "from sklearn.neighbors import KNeighborsClassifier\n",
        "from sklearn.metrics import classification_report\n",
        "from sklearn.model_selection import GridSearchCV"
      ],
      "metadata": {
        "id": "qHd0cbCUiKLl"
      },
      "execution_count": 45,
      "outputs": []
    },
    {
      "cell_type": "code",
      "source": [
        "param_grid = {\n",
        "    'n_neighbors': range(1, 102, 10),\n",
        "    'p': [1, 2]  # p=1 for Manhattan distance, p=2 for Euclidean distance\n",
        "}\n",
        "knn = KNeighborsClassifier()\n",
        "\n",
        "grid_search = GridSearchCV(knn, param_grid, cv=5)\n",
        "grid_search.fit(X_train, Y_train)\n",
        "\n",
        "print(f\"Best parameters: {grid_search.best_params_}\")\n",
        "print(f\"Best cross-validation score: {grid_search.best_score_:.4f}\")"
      ],
      "metadata": {
        "colab": {
          "base_uri": "https://localhost:8080/"
        },
        "id": "N_Lgz8_PZ6RH",
        "outputId": "e71c6092-3957-4be5-a7ce-ed522ef064f7"
      },
      "execution_count": 47,
      "outputs": [
        {
          "output_type": "stream",
          "name": "stdout",
          "text": [
            "Best parameters: {'n_neighbors': 1, 'p': 1}\n",
            "Best cross-validation score: 0.8971\n"
          ]
        }
      ]
    },
    {
      "cell_type": "code",
      "source": [
        "best_model = grid_search.best_estimator_"
      ],
      "metadata": {
        "id": "yTw-zHMjhDWB"
      },
      "execution_count": 50,
      "outputs": []
    },
    {
      "cell_type": "code",
      "source": [
        "Y_pred = best_model.predict(X_test)"
      ],
      "metadata": {
        "id": "u0mtIK2kibUT"
      },
      "execution_count": 51,
      "outputs": []
    },
    {
      "cell_type": "code",
      "source": [
        "print(classification_report(Y_test, Y_pred))"
      ],
      "metadata": {
        "colab": {
          "base_uri": "https://localhost:8080/"
        },
        "id": "dUc8v0_giiJL",
        "outputId": "00cea3f6-259a-40f5-b603-5ff0a8272a65"
      },
      "execution_count": 52,
      "outputs": [
        {
          "output_type": "stream",
          "name": "stdout",
          "text": [
            "              precision    recall  f1-score   support\n",
            "\n",
            "           0       0.77      0.69      0.73      1309\n",
            "           1       0.85      0.89      0.87      2495\n",
            "\n",
            "    accuracy                           0.82      3804\n",
            "   macro avg       0.81      0.79      0.80      3804\n",
            "weighted avg       0.82      0.82      0.82      3804\n",
            "\n"
          ]
        }
      ]
    },
    {
      "cell_type": "markdown",
      "source": [
        "# **Naive Bayes**:"
      ],
      "metadata": {
        "id": "amwhzKjdpmhJ"
      }
    },
    {
      "cell_type": "code",
      "source": [
        "from sklearn.naive_bayes import GaussianNB\n",
        "from sklearn.metrics import classification_report\n",
        "from sklearn.model_selection import GridSearchCV"
      ],
      "metadata": {
        "id": "m-kISpVMpqGf"
      },
      "execution_count": 43,
      "outputs": []
    },
    {
      "cell_type": "code",
      "source": [
        "param_grid = {\n",
        "    'var_smoothing': [1e-9, 1e-8, 1e-7, 1e-6]  # Smoothing parameter\n",
        "}\n",
        "\n",
        "# Create and train the Naive Bayes model\n",
        "nb = GaussianNB()\n",
        "\n",
        "# Perform grid search with cross-validation\n",
        "grid_search = GridSearchCV(nb, param_grid, cv=5)\n",
        "grid_search.fit(X_train, Y_train)\n",
        "\n",
        "# Print the best parameters and best score\n",
        "print(f\"Best parameters: {grid_search.best_params_}\")\n",
        "print(f\"Best cross-validation score: {grid_search.best_score_:.4f}\")"
      ],
      "metadata": {
        "colab": {
          "base_uri": "https://localhost:8080/"
        },
        "id": "pD3sIm5YqHy7",
        "outputId": "31794499-8e41-47bd-848b-e3ac602e3ecc"
      },
      "execution_count": 44,
      "outputs": [
        {
          "output_type": "stream",
          "name": "stdout",
          "text": [
            "Best parameters: {'var_smoothing': 1e-09}\n",
            "Best cross-validation score: 0.6566\n"
          ]
        }
      ]
    },
    {
      "cell_type": "code",
      "source": [
        "best_model = grid_search.best_estimator_"
      ],
      "metadata": {
        "id": "SBq-J0LvvbYH"
      },
      "execution_count": 39,
      "outputs": []
    },
    {
      "cell_type": "code",
      "source": [
        "Y_pred = best_model.predict(X_test)"
      ],
      "metadata": {
        "id": "O3VFUinDqOlG"
      },
      "execution_count": 40,
      "outputs": []
    },
    {
      "cell_type": "code",
      "source": [
        "print(classification_report(Y_test, Y_pred))"
      ],
      "metadata": {
        "colab": {
          "base_uri": "https://localhost:8080/"
        },
        "id": "n_Is-cJhqU3P",
        "outputId": "d0433d6a-5a16-4585-c1ef-d501be64ea01"
      },
      "execution_count": 41,
      "outputs": [
        {
          "output_type": "stream",
          "name": "stdout",
          "text": [
            "              precision    recall  f1-score   support\n",
            "\n",
            "           0       0.65      0.40      0.50      1309\n",
            "           1       0.74      0.89      0.81      2495\n",
            "\n",
            "    accuracy                           0.72      3804\n",
            "   macro avg       0.70      0.65      0.65      3804\n",
            "weighted avg       0.71      0.72      0.70      3804\n",
            "\n"
          ]
        }
      ]
    },
    {
      "cell_type": "markdown",
      "source": [
        "# **Desecion tree:**"
      ],
      "metadata": {
        "id": "piD_vDy7DqMO"
      }
    },
    {
      "cell_type": "code",
      "source": [
        "from sklearn.tree import DecisionTreeClassifier, plot_tree\n",
        "from sklearn.metrics import classification_report\n",
        "from sklearn.model_selection import GridSearchCV"
      ],
      "metadata": {
        "id": "rEUa7uIHD-ki"
      },
      "execution_count": 82,
      "outputs": []
    },
    {
      "cell_type": "code",
      "source": [
        "param_grid = {\n",
        "    'criterion': ['gini', 'entropy'],  # Function to measure the quality of a split\n",
        "    'max_depth': [None, 3,4,5,6],  # Maximum depth of the tree\n",
        "    'min_samples_split': [4, 5, 6],  # Minimum number of samples required to split an internal node\n",
        "    'min_samples_leaf': [2, 3, 4]  # Minimum number of samples required to be at a leaf node\n",
        "}\n",
        "\n",
        "dt = DecisionTreeClassifier()\n",
        "\n",
        "grid_search = GridSearchCV(dt, param_grid, cv=5)\n",
        "grid_search.fit(X_train, Y_train)\n",
        "\n",
        "print(f\"Best parameters: {grid_search.best_params_}\")\n",
        "print(f\"Best cross-validation score: {grid_search.best_score_:.4f}\")"
      ],
      "metadata": {
        "id": "-oxYQ2RuDtqF",
        "colab": {
          "base_uri": "https://localhost:8080/"
        },
        "outputId": "9bfe3883-ec04-44aa-ead3-d6fa0b2a2cf3"
      },
      "execution_count": 101,
      "outputs": [
        {
          "output_type": "stream",
          "name": "stdout",
          "text": [
            "Best parameters: {'criterion': 'gini', 'max_depth': None, 'min_samples_leaf': 2, 'min_samples_split': 4}\n",
            "Best cross-validation score: 1.0000\n"
          ]
        }
      ]
    },
    {
      "cell_type": "code",
      "source": [
        "best_model = grid_search.best_estimator_"
      ],
      "metadata": {
        "id": "OB7bK2RxFj4_"
      },
      "execution_count": 98,
      "outputs": []
    },
    {
      "cell_type": "code",
      "source": [
        "Y_pred = best_model.predict(X_test)"
      ],
      "metadata": {
        "id": "llG5Pam7GOax"
      },
      "execution_count": 99,
      "outputs": []
    },
    {
      "cell_type": "code",
      "source": [
        "print(classification_report(Y_test, Y_pred))"
      ],
      "metadata": {
        "colab": {
          "base_uri": "https://localhost:8080/"
        },
        "id": "NUFky09XGQfn",
        "outputId": "b7909de9-5316-46d6-b831-d34dcc51b526"
      },
      "execution_count": 100,
      "outputs": [
        {
          "output_type": "stream",
          "name": "stdout",
          "text": [
            "              precision    recall  f1-score   support\n",
            "\n",
            "           0       1.00      1.00      1.00        19\n",
            "           1       1.00      1.00      1.00        26\n",
            "\n",
            "    accuracy                           1.00        45\n",
            "   macro avg       1.00      1.00      1.00        45\n",
            "weighted avg       1.00      1.00      1.00        45\n",
            "\n"
          ]
        }
      ]
    }
  ]
}