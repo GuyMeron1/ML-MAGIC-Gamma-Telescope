{
  "nbformat": 4,
  "nbformat_minor": 0,
  "metadata": {
    "colab": {
      "provenance": [],
      "collapsed_sections": [
        "Hd1u5KaPiIAa",
        "amwhzKjdpmhJ",
        "piD_vDy7DqMO"
      ],
      "authorship_tag": "ABX9TyO/dfJnHodH6Ue5OTh1DTrN",
      "include_colab_link": true
    },
    "kernelspec": {
      "name": "python3",
      "display_name": "Python 3"
    },
    "language_info": {
      "name": "python"
    }
  },
  "cells": [
    {
      "cell_type": "markdown",
      "metadata": {
        "id": "view-in-github",
        "colab_type": "text"
      },
      "source": [
        "<a href=\"https://colab.research.google.com/github/GuyMeron1/ML-MAGIC-Gamma-Telescope/blob/main/first_try_in_ML.ipynb\" target=\"_parent\"><img src=\"https://colab.research.google.com/assets/colab-badge.svg\" alt=\"Open In Colab\"/></a>"
      ]
    },
    {
      "cell_type": "markdown",
      "source": [
        "Imports:"
      ],
      "metadata": {
        "id": "WhAPRvIag2ba"
      }
    },
    {
      "cell_type": "code",
      "execution_count": 2,
      "metadata": {
        "id": "yJntnSY4sG5x"
      },
      "outputs": [],
      "source": [
        "import numpy as np\n",
        "import pandas as pd\n",
        "import matplotlib.pyplot as plt\n",
        "from sklearn.preprocessing import StandardScaler\n",
        "from imblearn.over_sampling import RandomOverSampler"
      ]
    },
    {
      "cell_type": "markdown",
      "source": [
        "Load and Preview Dataset:"
      ],
      "metadata": {
        "id": "JJP-32Bsg9JJ"
      }
    },
    {
      "cell_type": "code",
      "source": [
        "cols = [\"fLength\", \"fWidth\", \"fSize\", \"fConc\", \"fConcl\", \"fAsym\", \"fM3Long\", \"fM3Trans\", \"fAlpha\", \"fDist\", \"class\"]\n",
        "\n",
        "df = pd.read_csv(\"magic04.data\", names=cols)\n",
        "df.head()"
      ],
      "metadata": {
        "id": "HxikvVFv1-4n"
      },
      "execution_count": null,
      "outputs": []
    },
    {
      "cell_type": "markdown",
      "source": [
        "Encode Target Variable:"
      ],
      "metadata": {
        "id": "ek9MDs9ghtx9"
      }
    },
    {
      "cell_type": "code",
      "source": [
        "df[\"class\"] = (df[\"class\"] == \"g\").astype(int)\n",
        "df.head()"
      ],
      "metadata": {
        "id": "xnBwtNuJ9eYX"
      },
      "execution_count": null,
      "outputs": []
    },
    {
      "cell_type": "markdown",
      "source": [
        "Feature Distributions by Class:"
      ],
      "metadata": {
        "id": "EbmVR2hBhyQL"
      }
    },
    {
      "cell_type": "code",
      "source": [
        "for label in cols[:-1]:\n",
        "  plt.hist(df[df[\"class\"]==1][label], color=\"blue\", label=\"gamma\", alpha=0.7, density=True)\n",
        "  plt.hist(df[df[\"class\"]==0][label], color=\"red\", label=\"hadron\", alpha=0.7, density=True)\n",
        "  plt.title(label)\n",
        "  plt.ylabel(\"Probability\")\n",
        "  plt.xlabel(label)\n",
        "  plt.legend()\n",
        "  plt.show()"
      ],
      "metadata": {
        "id": "Gpk6aChdB-1T"
      },
      "execution_count": null,
      "outputs": []
    },
    {
      "cell_type": "markdown",
      "source": [
        "Split Dataset into Train, Validation, and Test Sets:"
      ],
      "metadata": {
        "id": "3X108kgNh4dZ"
      }
    },
    {
      "cell_type": "code",
      "source": [
        "train, valid, test = np.split(df.sample(frac=1), [int(0.6*len(df)), int(0.8*len(df))])\n",
        "\"\"\"shuffled_df = df.sample(frac=1, random_state=42)  # optional: set seed for reproducibility\n",
        "train = shuffled_df.iloc[:int(0.6*len(df))]\n",
        "valid = shuffled_df.iloc[int(0.6*len(df)):int(0.8*len(df))]\n",
        "test  = shuffled_df.iloc[int(0.8*len(df)):]\"\"\"\n"
      ],
      "metadata": {
        "id": "_zGY7NB-HUU5"
      },
      "execution_count": null,
      "outputs": []
    },
    {
      "cell_type": "markdown",
      "source": [
        "Scale and Optionally Oversample Dataset:"
      ],
      "metadata": {
        "id": "goG0IRsOiBjN"
      }
    },
    {
      "cell_type": "code",
      "source": [
        "def scale_dataset(dataframe, oversample=False):\n",
        "  X = dataframe[dataframe.columns[:-1]].values\n",
        "  Y = dataframe[dataframe.columns[-1]].values\n",
        "\n",
        "  scaler = StandardScaler()\n",
        "  X = scaler.fit_transform(X)\n",
        "\n",
        "  if oversample:\n",
        "    ros = RandomOverSampler()\n",
        "    X, Y = ros.fit_resample(X, Y)\n",
        "\n",
        "  data = np.hstack((X, np.reshape(Y, (-1, 1))))\n",
        "\n",
        "  return data, X, Y"
      ],
      "metadata": {
        "id": "Dko0-1XJHgaC"
      },
      "execution_count": 8,
      "outputs": []
    },
    {
      "cell_type": "markdown",
      "source": [
        "Apply Scaling and Oversampling to Splits:"
      ],
      "metadata": {
        "id": "B28RqzMaiGLT"
      }
    },
    {
      "cell_type": "code",
      "source": [
        "train, X_train, Y_train = scale_dataset(train, oversample=True)\n",
        "valid, X_valid, Y_valid = scale_dataset(valid, oversample=False)\n",
        "test, X_test, Y_test = scale_dataset(test, oversample=False)"
      ],
      "metadata": {
        "id": "sHNePlhTdclV"
      },
      "execution_count": 9,
      "outputs": []
    },
    {
      "cell_type": "markdown",
      "source": [
        "# **KNN:**"
      ],
      "metadata": {
        "id": "Hd1u5KaPiIAa"
      }
    },
    {
      "cell_type": "code",
      "source": [
        "from sklearn.neighbors import KNeighborsClassifier\n",
        "from sklearn.metrics import classification_report\n",
        "from sklearn.model_selection import GridSearchCV"
      ],
      "metadata": {
        "id": "qHd0cbCUiKLl"
      },
      "execution_count": 24,
      "outputs": []
    },
    {
      "cell_type": "code",
      "source": [
        "param_grid = {\n",
        "    'n_neighbors': range(1, 102, 10),\n",
        "    'p': [1, 2]  # p=1 for Manhattan distance, p=2 for Euclidean distance\n",
        "}\n",
        "knn = KNeighborsClassifier()\n",
        "\n",
        "grid_search = GridSearchCV(knn, param_grid, cv=5)\n",
        "grid_search.fit(X_train, Y_train)\n",
        "\n",
        "print(f\"Best parameters: {grid_search.best_params_}\")\n",
        "print(f\"Best cross-validation score: {grid_search.best_score_:.4f}\")"
      ],
      "metadata": {
        "colab": {
          "base_uri": "https://localhost:8080/"
        },
        "id": "N_Lgz8_PZ6RH",
        "outputId": "968e0f58-09f4-4682-9711-92c5eb7bf7f0"
      },
      "execution_count": 25,
      "outputs": [
        {
          "output_type": "stream",
          "name": "stdout",
          "text": [
            "Best parameters: {'n_neighbors': 1, 'p': 1}\n",
            "Best cross-validation score: 0.8952\n"
          ]
        }
      ]
    },
    {
      "cell_type": "code",
      "source": [
        "best_model = grid_search.best_estimator_"
      ],
      "metadata": {
        "id": "yTw-zHMjhDWB"
      },
      "execution_count": 26,
      "outputs": []
    },
    {
      "cell_type": "code",
      "source": [
        "Y_pred = best_model.predict(X_test)"
      ],
      "metadata": {
        "id": "u0mtIK2kibUT"
      },
      "execution_count": 27,
      "outputs": []
    },
    {
      "cell_type": "code",
      "source": [
        "print(classification_report(Y_test, Y_pred))"
      ],
      "metadata": {
        "colab": {
          "base_uri": "https://localhost:8080/"
        },
        "id": "dUc8v0_giiJL",
        "outputId": "25a59c8d-1dd7-4bb7-9355-223125ce197f"
      },
      "execution_count": 28,
      "outputs": [
        {
          "output_type": "stream",
          "name": "stdout",
          "text": [
            "              precision    recall  f1-score   support\n",
            "\n",
            "           0       0.76      0.68      0.71      1313\n",
            "           1       0.84      0.89      0.86      2491\n",
            "\n",
            "    accuracy                           0.81      3804\n",
            "   macro avg       0.80      0.78      0.79      3804\n",
            "weighted avg       0.81      0.81      0.81      3804\n",
            "\n"
          ]
        }
      ]
    },
    {
      "cell_type": "markdown",
      "source": [
        "# **Naive Bayes**:"
      ],
      "metadata": {
        "id": "amwhzKjdpmhJ"
      }
    },
    {
      "cell_type": "code",
      "source": [
        "from sklearn.naive_bayes import GaussianNB\n",
        "from sklearn.metrics import classification_report\n",
        "from sklearn.model_selection import GridSearchCV"
      ],
      "metadata": {
        "id": "m-kISpVMpqGf"
      },
      "execution_count": 10,
      "outputs": []
    },
    {
      "cell_type": "code",
      "source": [
        "param_grid = {\n",
        "    'var_smoothing': [1e-9, 1e-8, 1e-7, 1e-6]  # Smoothing parameter\n",
        "}\n",
        "\n",
        "# Create and train the Naive Bayes model\n",
        "nb = GaussianNB()\n",
        "\n",
        "# Perform grid search with cross-validation\n",
        "grid_search = GridSearchCV(nb, param_grid, cv=5)\n",
        "grid_search.fit(X_train, Y_train)\n",
        "\n",
        "# Print the best parameters and best score\n",
        "print(f\"Best parameters: {grid_search.best_params_}\")\n",
        "print(f\"Best cross-validation score: {grid_search.best_score_:.4f}\")"
      ],
      "metadata": {
        "colab": {
          "base_uri": "https://localhost:8080/"
        },
        "id": "pD3sIm5YqHy7",
        "outputId": "e4ca57dd-ddbe-473f-91c7-95d68d5f6f8e"
      },
      "execution_count": 11,
      "outputs": [
        {
          "output_type": "stream",
          "name": "stdout",
          "text": [
            "Best parameters: {'var_smoothing': 1e-09}\n",
            "Best cross-validation score: 0.6477\n"
          ]
        }
      ]
    },
    {
      "cell_type": "code",
      "source": [
        "best_model = grid_search.best_estimator_"
      ],
      "metadata": {
        "id": "SBq-J0LvvbYH"
      },
      "execution_count": 12,
      "outputs": []
    },
    {
      "cell_type": "code",
      "source": [
        "Y_pred = best_model.predict(X_test)"
      ],
      "metadata": {
        "id": "O3VFUinDqOlG"
      },
      "execution_count": 13,
      "outputs": []
    },
    {
      "cell_type": "code",
      "source": [
        "print(classification_report(Y_test, Y_pred))"
      ],
      "metadata": {
        "colab": {
          "base_uri": "https://localhost:8080/"
        },
        "id": "n_Is-cJhqU3P",
        "outputId": "4031529c-df3b-4a83-ebec-58ba6efd7c1e"
      },
      "execution_count": 14,
      "outputs": [
        {
          "output_type": "stream",
          "name": "stdout",
          "text": [
            "              precision    recall  f1-score   support\n",
            "\n",
            "           0       0.68      0.41      0.51      1313\n",
            "           1       0.74      0.90      0.81      2491\n",
            "\n",
            "    accuracy                           0.73      3804\n",
            "   macro avg       0.71      0.65      0.66      3804\n",
            "weighted avg       0.72      0.73      0.71      3804\n",
            "\n"
          ]
        }
      ]
    },
    {
      "cell_type": "markdown",
      "source": [
        "# **Desecion tree:**"
      ],
      "metadata": {
        "id": "piD_vDy7DqMO"
      }
    },
    {
      "cell_type": "code",
      "source": [
        "from sklearn.tree import DecisionTreeClassifier, plot_tree\n",
        "from sklearn.metrics import classification_report\n",
        "from sklearn.model_selection import GridSearchCV"
      ],
      "metadata": {
        "id": "rEUa7uIHD-ki"
      },
      "execution_count": 19,
      "outputs": []
    },
    {
      "cell_type": "code",
      "source": [
        "param_grid = {\n",
        "    'criterion': ['gini', 'entropy'],  # Function to measure the quality of a split\n",
        "    'max_depth': [None, 3,4,5,6],  # Maximum depth of the tree\n",
        "    'min_samples_split': [4, 5, 6],  # Minimum number of samples required to split an internal node\n",
        "    'min_samples_leaf': [2, 3, 4]  # Minimum number of samples required to be at a leaf node\n",
        "}\n",
        "\n",
        "dt = DecisionTreeClassifier()\n",
        "\n",
        "grid_search = GridSearchCV(dt, param_grid, cv=5)\n",
        "grid_search.fit(X_train, Y_train)\n",
        "\n",
        "print(f\"Best parameters: {grid_search.best_params_}\")\n",
        "print(f\"Best cross-validation score: {grid_search.best_score_:.4f}\")"
      ],
      "metadata": {
        "id": "-oxYQ2RuDtqF",
        "colab": {
          "base_uri": "https://localhost:8080/"
        },
        "outputId": "3310d9eb-6e23-440b-e1ce-41a22984bb70"
      },
      "execution_count": 20,
      "outputs": [
        {
          "output_type": "stream",
          "name": "stdout",
          "text": [
            "Best parameters: {'criterion': 'entropy', 'max_depth': None, 'min_samples_leaf': 2, 'min_samples_split': 4}\n",
            "Best cross-validation score: 0.8794\n"
          ]
        }
      ]
    },
    {
      "cell_type": "code",
      "source": [
        "best_model = grid_search.best_estimator_"
      ],
      "metadata": {
        "id": "OB7bK2RxFj4_"
      },
      "execution_count": 21,
      "outputs": []
    },
    {
      "cell_type": "code",
      "source": [
        "Y_pred = best_model.predict(X_test)"
      ],
      "metadata": {
        "id": "llG5Pam7GOax"
      },
      "execution_count": 22,
      "outputs": []
    },
    {
      "cell_type": "code",
      "source": [
        "print(classification_report(Y_test, Y_pred))"
      ],
      "metadata": {
        "colab": {
          "base_uri": "https://localhost:8080/"
        },
        "id": "NUFky09XGQfn",
        "outputId": "84ddac1a-6684-4d68-da69-ea8514edd91a"
      },
      "execution_count": 23,
      "outputs": [
        {
          "output_type": "stream",
          "name": "stdout",
          "text": [
            "              precision    recall  f1-score   support\n",
            "\n",
            "           0       0.71      0.75      0.73      1313\n",
            "           1       0.86      0.84      0.85      2491\n",
            "\n",
            "    accuracy                           0.81      3804\n",
            "   macro avg       0.79      0.79      0.79      3804\n",
            "weighted avg       0.81      0.81      0.81      3804\n",
            "\n"
          ]
        }
      ]
    },
    {
      "cell_type": "markdown",
      "source": [
        "# **SVM:**"
      ],
      "metadata": {
        "id": "VWAYoK-857pu"
      }
    },
    {
      "cell_type": "code",
      "source": [
        "from sklearn.svm import SVC\n",
        "from sklearn.metrics import classification_report\n",
        "from sklearn.model_selection import GridSearchCV"
      ],
      "metadata": {
        "id": "ZJiE477w5-B-"
      },
      "execution_count": 36,
      "outputs": []
    },
    {
      "cell_type": "code",
      "source": [
        "param_grid = {\n",
        "    'C': [0.1, 1, 10],\n",
        "    'gamma': [0.1, 0.01],\n",
        "    'kernel': ['linear', 'rbf']\n",
        "}\n",
        "\n",
        "svm_model = SVC()\n",
        "\n",
        "grid_search = GridSearchCV(svm_model, param_grid, cv=5, n_jobs=-1, verbose=1)\n",
        "grid_search.fit(X_train, Y_train)\n",
        "\n",
        "print(f\"Best parameters: {grid_search.best_params_}\")\n",
        "print(f\"Best cross-validation score: {grid_search.best_score_:.4f}\")"
      ],
      "metadata": {
        "colab": {
          "base_uri": "https://localhost:8080/"
        },
        "id": "WXc2W19K6f3v",
        "outputId": "5d412fdd-5d29-4b31-cdc2-9b94b8fd5301"
      },
      "execution_count": 37,
      "outputs": [
        {
          "output_type": "stream",
          "name": "stdout",
          "text": [
            "Fitting 5 folds for each of 12 candidates, totalling 60 fits\n",
            "Best parameters: {'C': 10, 'gamma': 0.1, 'kernel': 'rbf'}\n",
            "Best cross-validation score: 0.8606\n"
          ]
        }
      ]
    },
    {
      "cell_type": "code",
      "source": [
        "best_svm = grid_search.best_estimator_"
      ],
      "metadata": {
        "id": "7m2VYfDs_SH2"
      },
      "execution_count": 42,
      "outputs": []
    },
    {
      "cell_type": "code",
      "source": [
        "Y_pred = best_svm.predict(X_test)"
      ],
      "metadata": {
        "id": "RY3N5-aQ6omO"
      },
      "execution_count": 43,
      "outputs": []
    },
    {
      "cell_type": "code",
      "source": [
        "print(classification_report(Y_test, Y_pred))"
      ],
      "metadata": {
        "colab": {
          "base_uri": "https://localhost:8080/"
        },
        "id": "kb1_KnFR6wdW",
        "outputId": "dc81bbe6-fbd4-426e-9346-a32462fe57f3"
      },
      "execution_count": 44,
      "outputs": [
        {
          "output_type": "stream",
          "name": "stdout",
          "text": [
            "              precision    recall  f1-score   support\n",
            "\n",
            "           0       0.81      0.82      0.81      1313\n",
            "           1       0.90      0.90      0.90      2491\n",
            "\n",
            "    accuracy                           0.87      3804\n",
            "   macro avg       0.86      0.86      0.86      3804\n",
            "weighted avg       0.87      0.87      0.87      3804\n",
            "\n"
          ]
        }
      ]
    },
    {
      "cell_type": "markdown",
      "source": [
        "# **Neural Network:**"
      ],
      "metadata": {
        "id": "L5vsSKBUE4RL"
      }
    },
    {
      "cell_type": "code",
      "source": [
        "from sklearn.neural_network import MLPClassifier\n",
        "from sklearn.metrics import classification_report\n",
        "from sklearn.model_selection import GridSearchCV"
      ],
      "metadata": {
        "id": "-OIQ-cllFIoH"
      },
      "execution_count": 35,
      "outputs": []
    },
    {
      "cell_type": "code",
      "source": [
        "param_grid = {\n",
        "    'hidden_layer_sizes': [(50,), (100,)],\n",
        "    'activation': ['relu'],\n",
        "    'solver': ['adam'],\n",
        "    'alpha': [0.0001, 0.001],\n",
        "    'learning_rate': ['constant', 'adaptive']\n",
        "}\n",
        "\n",
        "mlp = MLPClassifier(max_iter=1000)\n",
        "\n",
        "grid_search = GridSearchCV(mlp, param_grid, cv=5, n_jobs=-1, verbose=1)\n",
        "grid_search.fit(X_train, Y_train)\n",
        "\n",
        "print(f\"Best parameters: {grid_search.best_params_}\")\n",
        "print(f\"Best cross-validation score: {grid_search.best_score_:.4f}\")"
      ],
      "metadata": {
        "colab": {
          "base_uri": "https://localhost:8080/"
        },
        "id": "9cZ0qwPPFPqZ",
        "outputId": "301f2c4c-b06e-4621-afd6-42a064e81651"
      },
      "execution_count": 38,
      "outputs": [
        {
          "output_type": "stream",
          "name": "stdout",
          "text": [
            "Fitting 5 folds for each of 8 candidates, totalling 40 fits\n",
            "Best parameters: {'activation': 'relu', 'alpha': 0.0001, 'hidden_layer_sizes': (100,), 'learning_rate': 'adaptive', 'solver': 'adam'}\n",
            "Best cross-validation score: 0.8587\n"
          ]
        }
      ]
    },
    {
      "cell_type": "code",
      "source": [
        "best_mlp = grid_search.best_estimator_"
      ],
      "metadata": {
        "id": "0gDBuvHzFW2D"
      },
      "execution_count": 39,
      "outputs": []
    },
    {
      "cell_type": "code",
      "source": [
        "Y_pred = best_model.predict(X_test)"
      ],
      "metadata": {
        "id": "064wV8PhFaMO"
      },
      "execution_count": 40,
      "outputs": []
    },
    {
      "cell_type": "code",
      "source": [
        "print(classification_report(Y_test, Y_pred))"
      ],
      "metadata": {
        "colab": {
          "base_uri": "https://localhost:8080/"
        },
        "id": "kc6FugZ-Fet8",
        "outputId": "fe18980d-e729-496a-ae38-6208cacdab80"
      },
      "execution_count": 41,
      "outputs": [
        {
          "output_type": "stream",
          "name": "stdout",
          "text": [
            "              precision    recall  f1-score   support\n",
            "\n",
            "           0       0.76      0.68      0.71      1313\n",
            "           1       0.84      0.89      0.86      2491\n",
            "\n",
            "    accuracy                           0.81      3804\n",
            "   macro avg       0.80      0.78      0.79      3804\n",
            "weighted avg       0.81      0.81      0.81      3804\n",
            "\n"
          ]
        }
      ]
    }
  ]
}